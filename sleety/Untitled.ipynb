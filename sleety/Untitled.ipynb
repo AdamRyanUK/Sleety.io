{
 "cells": [
  {
   "cell_type": "code",
   "execution_count": 1,
   "id": "34c07890",
   "metadata": {},
   "outputs": [],
   "source": [
    "import pandas as pd"
   ]
  },
  {
   "cell_type": "code",
   "execution_count": 4,
   "id": "25f778b0",
   "metadata": {},
   "outputs": [],
   "source": [
    "df = pd.read_csv('resorts.csv')"
   ]
  },
  {
   "cell_type": "code",
   "execution_count": 5,
   "id": "8fa78ae4",
   "metadata": {},
   "outputs": [
    {
     "data": {
      "text/html": [
       "<div>\n",
       "<style scoped>\n",
       "    .dataframe tbody tr th:only-of-type {\n",
       "        vertical-align: middle;\n",
       "    }\n",
       "\n",
       "    .dataframe tbody tr th {\n",
       "        vertical-align: top;\n",
       "    }\n",
       "\n",
       "    .dataframe thead th {\n",
       "        text-align: right;\n",
       "    }\n",
       "</style>\n",
       "<table border=\"1\" class=\"dataframe\">\n",
       "  <thead>\n",
       "    <tr style=\"text-align: right;\">\n",
       "      <th></th>\n",
       "      <th>ID</th>\n",
       "      <th>NAME</th>\n",
       "      <th>COUNTRY</th>\n",
       "      <th>LAT</th>\n",
       "      <th>LONG</th>\n",
       "      <th>BASE</th>\n",
       "      <th>MID</th>\n",
       "      <th>TOP</th>\n",
       "    </tr>\n",
       "  </thead>\n",
       "  <tbody>\n",
       "    <tr>\n",
       "      <th>0</th>\n",
       "      <td>1</td>\n",
       "      <td>Hemsedal</td>\n",
       "      <td>Norway</td>\n",
       "      <td>60.928244</td>\n",
       "      <td>8.383487</td>\n",
       "      <td>620</td>\n",
       "      <td>1035</td>\n",
       "      <td>1450</td>\n",
       "    </tr>\n",
       "    <tr>\n",
       "      <th>1</th>\n",
       "      <td>2</td>\n",
       "      <td>Geilosiden Geilo</td>\n",
       "      <td>Norway</td>\n",
       "      <td>60.534526</td>\n",
       "      <td>8.206372</td>\n",
       "      <td>800</td>\n",
       "      <td>989</td>\n",
       "      <td>1178</td>\n",
       "    </tr>\n",
       "    <tr>\n",
       "      <th>2</th>\n",
       "      <td>3</td>\n",
       "      <td>Golm</td>\n",
       "      <td>Austria</td>\n",
       "      <td>47.057810</td>\n",
       "      <td>9.828167</td>\n",
       "      <td>650</td>\n",
       "      <td>1380</td>\n",
       "      <td>2110</td>\n",
       "    </tr>\n",
       "  </tbody>\n",
       "</table>\n",
       "</div>"
      ],
      "text/plain": [
       "   ID              NAME  COUNTRY        LAT      LONG  BASE   MID   TOP\n",
       "0   1          Hemsedal   Norway  60.928244  8.383487   620  1035  1450\n",
       "1   2  Geilosiden Geilo   Norway  60.534526  8.206372   800   989  1178\n",
       "2   3              Golm  Austria  47.057810  9.828167   650  1380  2110"
      ]
     },
     "execution_count": 5,
     "metadata": {},
     "output_type": "execute_result"
    }
   ],
   "source": [
    "df.head(3)"
   ]
  },
  {
   "cell_type": "code",
   "execution_count": 6,
   "id": "32a10b8b",
   "metadata": {},
   "outputs": [
    {
     "ename": "AttributeError",
     "evalue": "'builtin_function_or_method' object has no attribute 'LAT'",
     "output_type": "error",
     "traceback": [
      "\u001b[1;31m---------------------------------------------------------------------------\u001b[0m",
      "\u001b[1;31mAttributeError\u001b[0m                            Traceback (most recent call last)",
      "Cell \u001b[1;32mIn[6], line 5\u001b[0m\n\u001b[0;32m      2\u001b[0m longitude \u001b[38;5;241m=\u001b[39m []\n\u001b[0;32m      4\u001b[0m \u001b[38;5;28;01mfor\u001b[39;00m LAT \u001b[38;5;129;01min\u001b[39;00m df:\n\u001b[1;32m----> 5\u001b[0m     latitude\u001b[38;5;241m.\u001b[39mappend\u001b[38;5;241m.\u001b[39mLAT\n",
      "\u001b[1;31mAttributeError\u001b[0m: 'builtin_function_or_method' object has no attribute 'LAT'"
     ]
    }
   ],
   "source": [
    "latitude = []\n",
    "longitude = []\n",
    "\n",
    "def latlist(x)\n",
    "for LAT in df:\n",
    "    latitude.append.LAT\n",
    "    \n",
    "    "
   ]
  },
  {
   "cell_type": "code",
   "execution_count": null,
   "id": "422b0211",
   "metadata": {},
   "outputs": [],
   "source": []
  }
 ],
 "metadata": {
  "kernelspec": {
   "display_name": "Python 3 (ipykernel)",
   "language": "python",
   "name": "python3"
  },
  "language_info": {
   "codemirror_mode": {
    "name": "ipython",
    "version": 3
   },
   "file_extension": ".py",
   "mimetype": "text/x-python",
   "name": "python",
   "nbconvert_exporter": "python",
   "pygments_lexer": "ipython3",
   "version": "3.11.5"
  }
 },
 "nbformat": 4,
 "nbformat_minor": 5
}
